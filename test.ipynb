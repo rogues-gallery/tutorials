{
 "cells": [
  {
   "cell_type": "code",
   "execution_count": 3,
   "metadata": {},
   "outputs": [
    {
     "data": {
      "application/vnd.jupyter.widget-view+json": {
       "model_id": "2eebbda7e22e4c04b26f0379c785c6f4",
       "version_major": 2,
       "version_minor": 0
      },
      "text/plain": [
       "interactive(children=(IntSlider(value=1, description='x', max=3, min=-1), Output()), _dom_classes=('widget-int…"
      ]
     },
     "metadata": {},
     "output_type": "display_data"
    }
   ],
   "source": [
    "from ipywidgets import interact\n",
    "\n",
    "def ff(x):\n",
    "    print(x)\n",
    "    \n",
    "interact(ff, x=1);"
   ]
  }
 ],
 "metadata": {
  "kernelspec": {
   "display_name": "Python 3",
   "language": "python",
   "name": "python3"
  },
  "language_info": {
   "codemirror_mode": {
    "name": "ipython",
    "version": 3
   },
   "file_extension": ".py",
   "mimetype": "text/x-python",
   "name": "python",
   "nbconvert_exporter": "python",
   "pygments_lexer": "ipython3",
   "version": "3.7.6"
  },
  "widgets": {
   "application/vnd.jupyter.widget-state+json": {
    "state": {
     "002a74adfc66410388863e0fe6b5fa11": {
      "model_module": "@jupyter-widgets/controls",
      "model_module_version": "1.5.0",
      "model_name": "IntSliderModel",
      "state": {
       "description": "x",
       "layout": "IPY_MODEL_f3264372c12a4ee49eeef57b4b8f41b6",
       "max": 3,
       "min": -1,
       "style": "IPY_MODEL_752bcaf02718496c97a2f28c4061e1d1",
       "value": 1
      }
     },
     "092d2623f7b244afa434a6f13601cf62": {
      "model_module": "@jupyter-widgets/base",
      "model_module_version": "1.2.0",
      "model_name": "LayoutModel",
      "state": {}
     },
     "0a0e91bfc2da463981e4e2956cc045f7": {
      "model_module": "@jupyter-widgets/controls",
      "model_module_version": "1.5.0",
      "model_name": "IntSliderModel",
      "state": {
       "description": "x",
       "layout": "IPY_MODEL_9d7b69bcc6ef4f13a61f1fe78e37ab8c",
       "max": 3,
       "min": -1,
       "style": "IPY_MODEL_a82d694eb3ff4e85a77c623a6631fc4d",
       "value": 1
      }
     },
     "18931e48b7b7441bb8a508e08dec51e2": {
      "model_module": "@jupyter-widgets/controls",
      "model_module_version": "1.5.0",
      "model_name": "VBoxModel",
      "state": {
       "_dom_classes": [
        "widget-interact"
       ],
       "children": [
        "IPY_MODEL_0a0e91bfc2da463981e4e2956cc045f7",
        "IPY_MODEL_fa7390fd555f434d8bc7843a3d94adda"
       ],
       "layout": "IPY_MODEL_97f417472936493281bab3026777c6da"
      }
     },
     "2eebbda7e22e4c04b26f0379c785c6f4": {
      "model_module": "@jupyter-widgets/controls",
      "model_module_version": "1.5.0",
      "model_name": "VBoxModel",
      "state": {
       "_dom_classes": [
        "widget-interact"
       ],
       "children": [
        "IPY_MODEL_002a74adfc66410388863e0fe6b5fa11",
        "IPY_MODEL_7f7baaea389a4e09b6f9b986e4bf4341"
       ],
       "layout": "IPY_MODEL_f188eedb5c00405d9a0d72239acede0d"
      }
     },
     "34584a2108474439849b8faf8f757adf": {
      "model_module": "@jupyter-widgets/base",
      "model_module_version": "1.2.0",
      "model_name": "LayoutModel",
      "state": {}
     },
     "5356b50364c04a10844432a3d434a383": {
      "model_module": "@jupyter-widgets/base",
      "model_module_version": "1.2.0",
      "model_name": "LayoutModel",
      "state": {}
     },
     "6dff5ef3dca84e6f83258145bd3c2ac2": {
      "model_module": "@jupyter-widgets/base",
      "model_module_version": "1.2.0",
      "model_name": "LayoutModel",
      "state": {}
     },
     "752bcaf02718496c97a2f28c4061e1d1": {
      "model_module": "@jupyter-widgets/controls",
      "model_module_version": "1.5.0",
      "model_name": "SliderStyleModel",
      "state": {
       "description_width": ""
      }
     },
     "7f7baaea389a4e09b6f9b986e4bf4341": {
      "model_module": "@jupyter-widgets/output",
      "model_module_version": "1.0.0",
      "model_name": "OutputModel",
      "state": {
       "layout": "IPY_MODEL_9dbefca623a146f48ef214bea270ffd5",
       "outputs": [
        {
         "name": "stdout",
         "output_type": "stream",
         "text": "1\n"
        }
       ]
      }
     },
     "8ac4478171df4278bf4f20e23d4593b6": {
      "model_module": "@jupyter-widgets/controls",
      "model_module_version": "1.5.0",
      "model_name": "SliderStyleModel",
      "state": {
       "description_width": ""
      }
     },
     "97f417472936493281bab3026777c6da": {
      "model_module": "@jupyter-widgets/base",
      "model_module_version": "1.2.0",
      "model_name": "LayoutModel",
      "state": {}
     },
     "9d7b69bcc6ef4f13a61f1fe78e37ab8c": {
      "model_module": "@jupyter-widgets/base",
      "model_module_version": "1.2.0",
      "model_name": "LayoutModel",
      "state": {}
     },
     "9dbefca623a146f48ef214bea270ffd5": {
      "model_module": "@jupyter-widgets/base",
      "model_module_version": "1.2.0",
      "model_name": "LayoutModel",
      "state": {}
     },
     "a181a813d53640b7a09b0fdf6182e18c": {
      "model_module": "@jupyter-widgets/controls",
      "model_module_version": "1.5.0",
      "model_name": "IntSliderModel",
      "state": {
       "description": "x",
       "layout": "IPY_MODEL_092d2623f7b244afa434a6f13601cf62",
       "max": 3,
       "min": -1,
       "style": "IPY_MODEL_8ac4478171df4278bf4f20e23d4593b6",
       "value": -1
      }
     },
     "a82d694eb3ff4e85a77c623a6631fc4d": {
      "model_module": "@jupyter-widgets/controls",
      "model_module_version": "1.5.0",
      "model_name": "SliderStyleModel",
      "state": {
       "description_width": ""
      }
     },
     "f188eedb5c00405d9a0d72239acede0d": {
      "model_module": "@jupyter-widgets/base",
      "model_module_version": "1.2.0",
      "model_name": "LayoutModel",
      "state": {}
     },
     "f3264372c12a4ee49eeef57b4b8f41b6": {
      "model_module": "@jupyter-widgets/base",
      "model_module_version": "1.2.0",
      "model_name": "LayoutModel",
      "state": {}
     },
     "f54d4c4d8e794d1994d0858f2b7e7b5f": {
      "model_module": "@jupyter-widgets/output",
      "model_module_version": "1.0.0",
      "model_name": "OutputModel",
      "state": {
       "layout": "IPY_MODEL_34584a2108474439849b8faf8f757adf",
       "outputs": [
        {
         "name": "stdout",
         "output_type": "stream",
         "text": "-1\n"
        }
       ]
      }
     },
     "f7329a984d684ee79528d60303915d3b": {
      "model_module": "@jupyter-widgets/controls",
      "model_module_version": "1.5.0",
      "model_name": "VBoxModel",
      "state": {
       "_dom_classes": [
        "widget-interact"
       ],
       "children": [
        "IPY_MODEL_a181a813d53640b7a09b0fdf6182e18c",
        "IPY_MODEL_f54d4c4d8e794d1994d0858f2b7e7b5f"
       ],
       "layout": "IPY_MODEL_5356b50364c04a10844432a3d434a383"
      }
     },
     "fa7390fd555f434d8bc7843a3d94adda": {
      "model_module": "@jupyter-widgets/output",
      "model_module_version": "1.0.0",
      "model_name": "OutputModel",
      "state": {
       "layout": "IPY_MODEL_6dff5ef3dca84e6f83258145bd3c2ac2",
       "outputs": [
        {
         "name": "stdout",
         "output_type": "stream",
         "text": "1\n"
        }
       ]
      }
     }
    },
    "version_major": 2,
    "version_minor": 0
   }
  }
 },
 "nbformat": 4,
 "nbformat_minor": 2
}
